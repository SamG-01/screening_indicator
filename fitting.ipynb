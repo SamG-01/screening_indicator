{
 "cells": [
  {
   "cell_type": "code",
   "execution_count": 1,
   "metadata": {},
   "outputs": [],
   "source": [
    "import numpy as np\n",
    "\n",
    "import matplotlib.pyplot as plt\n",
    "from matplotlib.widgets import Slider, Button\n",
    "\n",
    "import chugunov_indicator as chug"
   ]
  },
  {
   "cell_type": "code",
   "execution_count": 2,
   "metadata": {},
   "outputs": [
    {
     "name": "stderr",
     "output_type": "stream",
     "text": [
      "yt : [INFO     ] 2024-09-20 02:06:20,415 Parameters: current_time              = 0.40003216130915\n",
      "yt : [INFO     ] 2024-09-20 02:06:20,416 Parameters: domain_dimensions         = [ 640 1280    1]\n",
      "yt : [INFO     ] 2024-09-20 02:06:20,416 Parameters: domain_left_edge          = [0. 0. 0.]\n",
      "yt : [INFO     ] 2024-09-20 02:06:20,418 Parameters: domain_right_edge         = [5.12000000e+09 1.02400000e+10 6.28318531e+00]\n"
     ]
    }
   ],
   "source": [
    "data = chug.DetonationData(\"./data/subch_plt08582/\")"
   ]
  },
  {
   "cell_type": "code",
   "execution_count": 3,
   "metadata": {},
   "outputs": [],
   "source": [
    "T, D = data.D_T_meshgrid()"
   ]
  },
  {
   "cell_type": "code",
   "execution_count": 4,
   "metadata": {},
   "outputs": [
    {
     "data": {
      "text/plain": [
       "{'abar': 4.028776983649797,\n",
       " 'zbar': 2.0143884920095214,\n",
       " 'z2bar': 4.129496456710949,\n",
       " 'z1': 2,\n",
       " 'a1': 4,\n",
       " 'z2': 6,\n",
       " 'a2': 12}"
      ]
     },
     "execution_count": 4,
     "metadata": {},
     "output_type": "execute_result"
    }
   ],
   "source": [
    "i = 500\n",
    "kwargs = {\n",
    "    \"abar\": data.data[\"abar\"][i],\n",
    "    \"zbar\": data.data[\"zbar\"][i],\n",
    "    \"z2bar\": data.data[\"z2bar\"][i],\n",
    "    **data.data[\"ScreenFactors\"][1]\n",
    "}\n",
    "kwargs"
   ]
  },
  {
   "cell_type": "code",
   "execution_count": 5,
   "metadata": {},
   "outputs": [],
   "source": [
    "F = chug.chugunov_2009(T, D, **kwargs)"
   ]
  },
  {
   "cell_type": "code",
   "execution_count": 6,
   "metadata": {},
   "outputs": [],
   "source": [
    "T_border, D_border = chug.fitting.border_from_grid(T, D, F, percent=0.99875)"
   ]
  },
  {
   "cell_type": "markdown",
   "metadata": {},
   "source": [
    "Let's make the assumption $k = 3$, that is, the border line is really a cubic curve $\\rho \\propto T^3$."
   ]
  },
  {
   "cell_type": "code",
   "execution_count": 7,
   "metadata": {},
   "outputs": [],
   "source": [
    "c, var_c = chug.parameters_from_border(T_border, D_border, return_pcov=True)"
   ]
  },
  {
   "cell_type": "code",
   "execution_count": 8,
   "metadata": {},
   "outputs": [
    {
     "data": {
      "text/plain": [
       "22.699200488731986"
      ]
     },
     "metadata": {},
     "output_type": "display_data"
    },
    {
     "data": {
      "text/plain": [
       "0.0030385189709732476"
      ]
     },
     "metadata": {},
     "output_type": "display_data"
    }
   ],
   "source": [
    "display(c, np.sqrt(var_c))"
   ]
  },
  {
   "cell_type": "markdown",
   "metadata": {},
   "source": [
    "Since $\\sigma_c \\ll c$ (which holds in general), we can neglect uncertainties from here on out."
   ]
  },
  {
   "cell_type": "code",
   "execution_count": 9,
   "metadata": {},
   "outputs": [
    {
     "data": {
      "image/png": "[encoded data removed]",
      "text/plain": [
       "<Figure size 640x480 with 1 Axes>"
      ]
     },
     "metadata": {},
     "output_type": "display_data"
    }
   ],
   "source": [
    "fig1, ax1 = plt.subplots()\n",
    "\n",
    "chug.D_T_setup(ax1)\n",
    "\n",
    "ax1.plot(T_border, D_border, marker=\".\")\n",
    "T_ = np.logspace(7, 9.35)\n",
    "D_ = chug.border_func(T_, c)\n",
    "\n",
    "line, = ax1.plot(T_, D_, color=\"red\", linestyle=\"--\")"
   ]
  },
  {
   "cell_type": "code",
   "execution_count": 10,
   "metadata": {},
   "outputs": [
    {
     "data": {
      "text/plain": [
       "[{'z1': 1, 'a1': 1, 'z2': 6, 'a2': 12},\n",
       " {'z1': 2, 'a1': 4, 'z2': 6, 'a2': 12},\n",
       " {'z1': 2, 'a1': 4, 'z2': 7, 'a2': 14},\n",
       " {'z1': 2, 'a1': 4, 'z2': 8, 'a2': 16},\n",
       " {'z1': 2, 'a1': 4, 'z2': 9, 'a2': 18},\n",
       " {'z1': 2, 'a1': 4, 'z2': 10, 'a2': 20},\n",
       " {'z1': 1, 'a1': 1, 'z2': 10, 'a2': 21},\n",
       " {'z1': 1, 'a1': 1, 'z2': 11, 'a2': 23},\n",
       " {'z1': 2, 'a1': 4, 'z2': 11, 'a2': 23},\n",
       " {'z1': 2, 'a1': 4, 'z2': 12, 'a2': 24},\n",
       " {'z1': 1, 'a1': 1, 'z2': 13, 'a2': 27},\n",
       " {'z1': 2, 'a1': 4, 'z2': 13, 'a2': 27},\n",
       " {'z1': 2, 'a1': 4, 'z2': 14, 'a2': 28},\n",
       " {'z1': 1, 'a1': 1, 'z2': 15, 'a2': 31},\n",
       " {'z1': 2, 'a1': 4, 'z2': 16, 'a2': 32},\n",
       " {'z1': 2, 'a1': 4, 'z2': 18, 'a2': 36},\n",
       " {'z1': 2, 'a1': 4, 'z2': 20, 'a2': 40},\n",
       " {'z1': 2, 'a1': 4, 'z2': 22, 'a2': 44},\n",
       " {'z1': 2, 'a1': 4, 'z2': 24, 'a2': 48},\n",
       " {'z1': 2, 'a1': 4, 'z2': 26, 'a2': 52},\n",
       " {'z1': 6, 'a1': 12, 'z2': 6, 'a2': 12},\n",
       " {'z1': 2, 'a1': 4, 'z2': 7, 'a2': 13},\n",
       " {'z1': 1, 'a1': 1, 'z2': 8, 'a2': 16},\n",
       " {'z1': 6, 'a1': 12, 'z2': 8, 'a2': 16},\n",
       " {'z1': 8, 'a1': 16, 'z2': 8, 'a2': 16},\n",
       " {'z1': 6, 'a1': 12, 'z2': 10, 'a2': 20},\n",
       " {'z1': 2, 'a1': 4, 'z2': 2, 'a2': 4},\n",
       " {'z1': 2, 'a1': 4, 'z2': 4, 'a2': 8}]"
      ]
     },
     "execution_count": 10,
     "metadata": {},
     "output_type": "execute_result"
    }
   ],
   "source": [
    "data.data[\"ScreenFactors\"]"
   ]
  },
  {
   "cell_type": "code",
   "execution_count": 11,
   "metadata": {},
   "outputs": [
    {
     "data": {
      "text/plain": [
       "(0.07173538122272038, 163.844288919927)"
      ]
     },
     "execution_count": 11,
     "metadata": {},
     "output_type": "execute_result"
    }
   ],
   "source": [
    "variance = data.data[\"z2bar\"] - data.data[\"zbar\"]**2\n",
    "variance.min(), variance.max()"
   ]
  },
  {
   "cell_type": "code",
   "execution_count": 134,
   "metadata": {},
   "outputs": [
    {
     "data": {
      "text/plain": [
       "{'abar': (4.028776676342192, 52.43965444432472),\n",
       " 'zbar': (2.0143883383557393, 26.223830930940498),\n",
       " 'z2bar': (4.1294958073363555, 713.3104742534674),\n",
       " 'z1': (1, 10),\n",
       " 'z2': (1, 10)}"
      ]
     },
     "execution_count": 134,
     "metadata": {},
     "output_type": "execute_result"
    }
   ],
   "source": [
    "minmax = {\n",
    "    \"abar\": (data.data[\"abar\"].min(), data.data[\"abar\"].max()),\n",
    "    \"zbar\": (data.data[\"zbar\"].min(), data.data[\"zbar\"].max()),\n",
    "    \"z2bar\": (data.data[\"z2bar\"].min(), data.data[\"z2bar\"].max()),\n",
    "    \"z1\": (1, 10),\n",
    "    \"z2\": (1, 10)\n",
    "}\n",
    "\n",
    "minmax"
   ]
  },
  {
   "cell_type": "code",
   "execution_count": 13,
   "metadata": {},
   "outputs": [],
   "source": [
    "key_line = \"zbar\"\n",
    "\n",
    "new_data = {**kwargs}\n",
    "if key_line == \"zbar\":\n",
    "    new_data[key_line] = np.linspace(1, 700, 700*2)\n",
    "else:\n",
    "    new_data[key_line] = np.linspace(1, 70, 70*5)\n",
    "\n",
    "x = new_data[key_line]"
   ]
  },
  {
   "cell_type": "code",
   "execution_count": 14,
   "metadata": {},
   "outputs": [],
   "source": [
    "C = chug.parameters_from_vars(T=T, D=D, **new_data)"
   ]
  },
  {
   "cell_type": "code",
   "execution_count": 16,
   "metadata": {},
   "outputs": [
    {
     "data": {
      "image/png": "[encoded data removed]",
      "text/plain": [
       "<Figure size 640x480 with 2 Axes>"
      ]
     },
     "metadata": {},
     "output_type": "display_data"
    }
   ],
   "source": [
    "fig2, ax2 = plt.subplots(2, 1, constrained_layout=True)\n",
    "\n",
    "ax2[0].set_title(\"c vs \" + key_line)\n",
    "ax2[0].set_xlabel(key_line)\n",
    "ax2[0].set_ylabel(\"c\")\n",
    "\n",
    "ax2[1].set_title(\"$y_0 = 10^{-c}$ vs \" + key_line)\n",
    "ax2[1].set_xlabel(key_line)\n",
    "ax2[1].set_ylabel(\"$10^{-c}$\")\n",
    "\n",
    "#ax2[2].set_title(\"y_0' vs \" + key_line)\n",
    "#ax2[2].set_title(\"c' vs \" + key_line)\n",
    "#ax2[2].set_xlabel(key_line)\n",
    "#ax2[2].set_ylabel(\"c\")\n",
    "\n",
    "ax2[0].plot(x, C, color=\"red\")\n",
    "ax2[1].plot(x, 1/10**C, color=\"red\")\n",
    "\n",
    "#ax2[2].plot(x, dC_dvar, color=\"red\")\n",
    "#ax2[2].plot(x, dC_dvar * - np.log(10) * 1/10**C, color=\"red\")\n",
    "\n",
    "if key_line == \"abar\":\n",
    "    ax2[1].plot(x, 2e-22/40 * x, linestyle=\"--\", color=\"yellow\")\n",
    "#elif key_line in (\"z1\", \"z2\"):\n",
    "#    ax2[0].plot(x, 31 - 8*np.exp(-np.sqrt(x)/20))"
   ]
  }
 ],
 "metadata": {
  "kernelspec": {
   "display_name": "Python 3",
   "language": "python",
   "name": "python3"
  },
  "language_info": {
   "codemirror_mode": {
    "name": "ipython",
    "version": 3
   },
   "file_extension": ".py",
   "mimetype": "text/x-python",
   "name": "python",
   "nbconvert_exporter": "python",
   "pygments_lexer": "ipython3",
   "version": "3.12.2"
  }
 },
 "nbformat": 4,
 "nbformat_minor": 2
}
