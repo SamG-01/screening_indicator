{
 "cells": [
  {
   "cell_type": "code",
   "execution_count": 10,
   "metadata": {},
   "outputs": [],
   "source": [
    "import numpy as np\n",
    "import matplotlib.pyplot as plt\n",
    "\n",
    "import chugunov_indicator as chug\n",
    "\n",
    "import pynucastro as pyna\n",
    "import yt"
   ]
  },
  {
   "cell_type": "code",
   "execution_count": 15,
   "metadata": {},
   "outputs": [],
   "source": [
    "def D_T_setup(ax) -> None:\n",
    "    \"\"\"Sets up the axes of a D-T graph.\"\"\"\n",
    "\n",
    "    ax.set_xlabel(\"$T$\")\n",
    "    ax.set_ylabel(\"$\\\\rho$\")\n",
    "\n",
    "    ax.set_xscale(\"log\")\n",
    "    ax.set_yscale(\"log\")\n",
    "\n",
    "def D_T_colorgraph(T, D, y, fig, ax) -> tuple:\n",
    "    \"\"\"Creates a colormesh of y-data on a D-T graph.\"\"\"\n",
    "\n",
    "    D_T_setup(ax)\n",
    "\n",
    "    cb = ax.pcolormesh(T, D, y)\n",
    "    cbar = fig.colorbar(cb)\n",
    "\n",
    "    return cb, cbar\n",
    "\n",
    "def clip(x: np.ndarray, maximum: float = 1.01) -> np.ndarray:\n",
    "    return np.where(x > maximum, maximum, x)"
   ]
  },
  {
   "cell_type": "code",
   "execution_count": 3,
   "metadata": {},
   "outputs": [
    {
     "name": "stderr",
     "output_type": "stream",
     "text": [
      "yt : [INFO     ] 2024-09-23 17:07:47,644 Parameters: current_time              = 0.40003216130915\n",
      "yt : [INFO     ] 2024-09-23 17:07:47,644 Parameters: domain_dimensions         = [ 640 1280    1]\n",
      "yt : [INFO     ] 2024-09-23 17:07:47,647 Parameters: domain_left_edge          = [0. 0. 0.]\n",
      "yt : [INFO     ] 2024-09-23 17:07:47,647 Parameters: domain_right_edge         = [5.12000000e+09 1.02400000e+10 6.28318531e+00]\n"
     ]
    }
   ],
   "source": [
    "ds = yt.load('./data/subch_plt08582/')\n",
    "ad = ds.all_data()"
   ]
  },
  {
   "cell_type": "code",
   "execution_count": 4,
   "metadata": {},
   "outputs": [],
   "source": [
    "density = np.array(ad[\"density\"])\n",
    "temperature = np.array(ad[\"Temp\"])"
   ]
  },
  {
   "cell_type": "markdown",
   "metadata": {},
   "source": [
    "The question posed is as follows: when can the calculation for the screening factor be skipped? For our purposes, we let the screening function $F$ be `pynucastro`'s implementation of `chugunov_2009`, and we consider the screening factor calculation to be skippable when it is less than $1.01$.\n",
    "\n",
    "The screening function takes the form\n",
    "$$\n",
    "    F = F(T, D; \\bar{A}, \\bar{Z}, \\overline{Z^2}; Z_1, A_1, Z_2, A_2),\n",
    "$$\n",
    "where the first two variables are properties of the plasma state, the next three are properties of the composition within that state, and the latter four are properties of the screening pair in question."
   ]
  },
  {
   "cell_type": "markdown",
   "metadata": {},
   "source": [
    "For a sample of double detonation data, the possible values of the four screening pair variables can be found via `pynucastro`'s `get_screening_map` function:"
   ]
  },
  {
   "cell_type": "code",
   "execution_count": 11,
   "metadata": {},
   "outputs": [
    {
     "data": {
      "text/plain": [
       "{'z1': 1, 'a1': 1, 'z2': 6, 'a2': 12}"
      ]
     },
     "metadata": {},
     "output_type": "display_data"
    },
    {
     "data": {
      "text/plain": [
       "{'z1': 2, 'a1': 4, 'z2': 6, 'a2': 12}"
      ]
     },
     "metadata": {},
     "output_type": "display_data"
    },
    {
     "data": {
      "text/plain": [
       "{'z1': 2, 'a1': 4, 'z2': 7, 'a2': 14}"
      ]
     },
     "metadata": {},
     "output_type": "display_data"
    },
    {
     "data": {
      "text/plain": [
       "{'z1': 2, 'a1': 4, 'z2': 8, 'a2': 16}"
      ]
     },
     "metadata": {},
     "output_type": "display_data"
    },
    {
     "data": {
      "text/plain": [
       "{'z1': 2, 'a1': 4, 'z2': 9, 'a2': 18}"
      ]
     },
     "metadata": {},
     "output_type": "display_data"
    },
    {
     "data": {
      "text/plain": [
       "{'z1': 2, 'a1': 4, 'z2': 10, 'a2': 20}"
      ]
     },
     "metadata": {},
     "output_type": "display_data"
    },
    {
     "data": {
      "text/plain": [
       "{'z1': 1, 'a1': 1, 'z2': 10, 'a2': 21}"
      ]
     },
     "metadata": {},
     "output_type": "display_data"
    },
    {
     "data": {
      "text/plain": [
       "{'z1': 1, 'a1': 1, 'z2': 11, 'a2': 23}"
      ]
     },
     "metadata": {},
     "output_type": "display_data"
    },
    {
     "data": {
      "text/plain": [
       "{'z1': 2, 'a1': 4, 'z2': 11, 'a2': 23}"
      ]
     },
     "metadata": {},
     "output_type": "display_data"
    },
    {
     "data": {
      "text/plain": [
       "{'z1': 2, 'a1': 4, 'z2': 12, 'a2': 24}"
      ]
     },
     "metadata": {},
     "output_type": "display_data"
    },
    {
     "data": {
      "text/plain": [
       "{'z1': 1, 'a1': 1, 'z2': 13, 'a2': 27}"
      ]
     },
     "metadata": {},
     "output_type": "display_data"
    },
    {
     "data": {
      "text/plain": [
       "{'z1': 2, 'a1': 4, 'z2': 13, 'a2': 27}"
      ]
     },
     "metadata": {},
     "output_type": "display_data"
    },
    {
     "data": {
      "text/plain": [
       "{'z1': 2, 'a1': 4, 'z2': 14, 'a2': 28}"
      ]
     },
     "metadata": {},
     "output_type": "display_data"
    },
    {
     "data": {
      "text/plain": [
       "{'z1': 1, 'a1': 1, 'z2': 15, 'a2': 31}"
      ]
     },
     "metadata": {},
     "output_type": "display_data"
    },
    {
     "data": {
      "text/plain": [
       "{'z1': 2, 'a1': 4, 'z2': 16, 'a2': 32}"
      ]
     },
     "metadata": {},
     "output_type": "display_data"
    },
    {
     "data": {
      "text/plain": [
       "{'z1': 2, 'a1': 4, 'z2': 18, 'a2': 36}"
      ]
     },
     "metadata": {},
     "output_type": "display_data"
    },
    {
     "data": {
      "text/plain": [
       "{'z1': 2, 'a1': 4, 'z2': 20, 'a2': 40}"
      ]
     },
     "metadata": {},
     "output_type": "display_data"
    },
    {
     "data": {
      "text/plain": [
       "{'z1': 2, 'a1': 4, 'z2': 22, 'a2': 44}"
      ]
     },
     "metadata": {},
     "output_type": "display_data"
    },
    {
     "data": {
      "text/plain": [
       "{'z1': 2, 'a1': 4, 'z2': 24, 'a2': 48}"
      ]
     },
     "metadata": {},
     "output_type": "display_data"
    },
    {
     "data": {
      "text/plain": [
       "{'z1': 2, 'a1': 4, 'z2': 26, 'a2': 52}"
      ]
     },
     "metadata": {},
     "output_type": "display_data"
    },
    {
     "data": {
      "text/plain": [
       "{'z1': 6, 'a1': 12, 'z2': 6, 'a2': 12}"
      ]
     },
     "metadata": {},
     "output_type": "display_data"
    },
    {
     "data": {
      "text/plain": [
       "{'z1': 2, 'a1': 4, 'z2': 7, 'a2': 13}"
      ]
     },
     "metadata": {},
     "output_type": "display_data"
    },
    {
     "data": {
      "text/plain": [
       "{'z1': 1, 'a1': 1, 'z2': 8, 'a2': 16}"
      ]
     },
     "metadata": {},
     "output_type": "display_data"
    },
    {
     "data": {
      "text/plain": [
       "{'z1': 6, 'a1': 12, 'z2': 8, 'a2': 16}"
      ]
     },
     "metadata": {},
     "output_type": "display_data"
    },
    {
     "data": {
      "text/plain": [
       "{'z1': 8, 'a1': 16, 'z2': 8, 'a2': 16}"
      ]
     },
     "metadata": {},
     "output_type": "display_data"
    },
    {
     "data": {
      "text/plain": [
       "{'z1': 6, 'a1': 12, 'z2': 10, 'a2': 20}"
      ]
     },
     "metadata": {},
     "output_type": "display_data"
    },
    {
     "data": {
      "text/plain": [
       "{'z1': 2, 'a1': 4, 'z2': 2, 'a2': 4}"
      ]
     },
     "metadata": {},
     "output_type": "display_data"
    },
    {
     "data": {
      "text/plain": [
       "{'z1': 2, 'a1': 4, 'z2': 4, 'a2': 8}"
      ]
     },
     "metadata": {},
     "output_type": "display_data"
    }
   ],
   "source": [
    "reaclib_library = pyna.ReacLibLibrary()\n",
    "\n",
    "nuclei = [field[2:-1] for field in np.array(ds.field_list)[:,1] if \"X(\" in field]\n",
    "comp = pyna.Composition(nuclei)\n",
    "\n",
    "mynet = reaclib_library.linking_nuclei(comp.keys())\n",
    "pynet = pyna.PythonNetwork(libraries=[mynet])\n",
    "\n",
    "screen_map = pyna.screening.get_screening_map(\n",
    "    pynet.get_rates(),\n",
    "    symmetric_screening=pynet.symmetric_screening\n",
    ")\n",
    "display(*[\n",
    "    {\n",
    "        \"z1\": pair.n1.Z,\n",
    "        \"a1\": pair.n1.A,\n",
    "        \"z2\": pair.n2.Z,\n",
    "        \"a2\": pair.n2.A\n",
    "    }\n",
    "    for pair in screen_map\n",
    "])"
   ]
  },
  {
   "cell_type": "markdown",
   "metadata": {},
   "source": [
    "Meanwhile, the composition variables can take on a whole spectrum of values. For the double detonation data, the global extrema are as follows:"
   ]
  },
  {
   "cell_type": "code",
   "execution_count": 16,
   "metadata": {},
   "outputs": [
    {
     "data": {
      "text/plain": [
       "('abar: ', 4.028776676342192, 52.43965444432472)"
      ]
     },
     "metadata": {},
     "output_type": "display_data"
    },
    {
     "data": {
      "text/plain": [
       "('zbar: ', 2.0143883383557393, 26.223830930940498)"
      ]
     },
     "metadata": {},
     "output_type": "display_data"
    },
    {
     "data": {
      "text/plain": [
       "('z2bar: ', 4.1294958073363555, 713.3104742534674)"
      ]
     },
     "metadata": {},
     "output_type": "display_data"
    }
   ],
   "source": [
    "Xs = np.array([ad[f\"X({nucleus})\"] for nucleus in nuclei]).T\n",
    "As = np.array(list(comp.A.values()))\n",
    "Zs = np.array(list(comp.Z.values()))\n",
    "Ys = Xs / As\n",
    "\n",
    "abar = 1 / np.sum(Ys, axis=1)\n",
    "zbar = np.sum(Zs * Ys, axis=1) * abar\n",
    "z2bar = np.sum(Zs**2 * Ys, axis=1) * abar\n",
    "\n",
    "display(\n",
    "    (\"abar: \", abar.min(), abar.max()),\n",
    "    (\"zbar: \", zbar.min(), zbar.max()),\n",
    "    (\"z2bar: \", z2bar.min(), z2bar.max())\n",
    ")"
   ]
  },
  {
   "cell_type": "markdown",
   "metadata": {},
   "source": [
    "Lastly, the temperatures and densities of the detonation data appear in the following region:"
   ]
  },
  {
   "cell_type": "code",
   "execution_count": 17,
   "metadata": {},
   "outputs": [
    {
     "data": {
      "text/plain": [
       "('log T: ', 6.98162931896528, 9.340288437793431)"
      ]
     },
     "metadata": {},
     "output_type": "display_data"
    },
    {
     "data": {
      "text/plain": [
       "('log D: ', -3.999999999613353, 7.995850585269622)"
      ]
     },
     "metadata": {},
     "output_type": "display_data"
    }
   ],
   "source": [
    "display(\n",
    "    (\"log T: \", np.log10(temperature.min()), np.log10(temperature.max())),\n",
    "    (\"log D: \", np.log10(density.min()), np.log10(density.max())),\n",
    ")"
   ]
  },
  {
   "cell_type": "code",
   "execution_count": 8,
   "metadata": {},
   "outputs": [
    {
     "data": {
      "image/png": "[encoded data removed]",
      "text/plain": [
       "<Figure size 640x480 with 1 Axes>"
      ]
     },
     "metadata": {},
     "output_type": "display_data"
    }
   ],
   "source": [
    "fig0, ax0 = plt.subplots()\n",
    "\n",
    "D_T_setup(ax0)\n",
    "\n",
    "ax0.set_title(\"Double Detonation Region\")\n",
    "\n",
    "detonation_data = ax0.scatter(temperature, density, s=1)"
   ]
  },
  {
   "cell_type": "markdown",
   "metadata": {},
   "source": [
    "For example, suppose we choose the following variables:"
   ]
  },
  {
   "cell_type": "code",
   "execution_count": 19,
   "metadata": {},
   "outputs": [],
   "source": [
    "test_kwargs = {\n",
    "    'abar': 4.028776983649795,\n",
    "    'zbar': 2.0143884920095214,\n",
    "    'z2bar': 4.12949645671095,\n",
    "    'z1': 2,\n",
    "    'a1': 4,\n",
    "    'z2': 6,\n",
    "    'a2': 12\n",
    "}"
   ]
  },
  {
   "cell_type": "markdown",
   "metadata": {},
   "source": [
    "With these held constant, the screening factor takes the following form on a grid:"
   ]
  },
  {
   "cell_type": "code",
   "execution_count": 28,
   "metadata": {},
   "outputs": [],
   "source": [
    "D_, T_ = np.logspace([7, 9.35], [-4, 8], num=100).T\n",
    "\n",
    "T, D = np.meshgrid(T_, D_)\n",
    "\n",
    "F = chug.chugunov_2009.chugunov_2009(T=T, D=D, **test_kwargs)"
   ]
  },
  {
   "cell_type": "code",
   "execution_count": 34,
   "metadata": {},
   "outputs": [
    {
     "name": "stderr",
     "output_type": "stream",
     "text": [
      "C:\\Users\\Sam\\AppData\\Local\\Temp\\ipykernel_16044\\2068822018.py:11: UserWarning: FigureCanvasAgg is non-interactive, and thus cannot be shown\n",
      "  fig1.show()\n"
     ]
    },
    {
     "data": {
      "image/png": "[encoded data removed]",
      "text/plain": [
       "<Figure size 640x480 with 4 Axes>"
      ]
     },
     "metadata": {},
     "output_type": "display_data"
    }
   ],
   "source": [
    "fig1, ax1 = plt.subplots(2, 1, constrained_layout=True)\n",
    "\n",
    "D_T_colorgraph(T, D, np.log10(F), fig1, ax1[0])\n",
    "\n",
    "ax1[0].set_title(\"log(F)\")\n",
    "\n",
    "D_T_colorgraph(T, D, clip(F), fig1, ax1[1])\n",
    "\n",
    "ax1[1].set_title(\"min(F, 1.01)\")\n",
    "\n",
    "fig1.show()"
   ]
  },
  {
   "cell_type": "markdown",
   "metadata": {},
   "source": [
    "Notice that in the second plot, the data is divided into two regions. The one above is where $F \\geq 1.01$ (i.e. screening is important), while the one below is where $F < 1.01$ (i.e. screening can be skipped).\n",
    "\n",
    "More importantly, notice that the two regions are divided by a line in log-log space. I claim that this relation holds in general - that is, the region where screening can be skipped is given by\n",
    "$$\n",
    "    \\rho(T) \\leq A T^k,\n",
    "$$\n",
    "where equality represents the **border curve/line** that separates the two regions. Here, $\\log A$ is the $y$-intercept of the line and $k$ is its slope."
   ]
  }
 ],
 "metadata": {
  "kernelspec": {
   "display_name": "Python 3",
   "language": "python",
   "name": "python3"
  },
  "language_info": {
   "codemirror_mode": {
    "name": "ipython",
    "version": 3
   },
   "file_extension": ".py",
   "mimetype": "text/x-python",
   "name": "python",
   "nbconvert_exporter": "python",
   "pygments_lexer": "ipython3",
   "version": "3.12.2"
  }
 },
 "nbformat": 4,
 "nbformat_minor": 2
}
