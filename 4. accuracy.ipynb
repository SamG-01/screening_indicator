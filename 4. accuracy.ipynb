{
 "cells": [
  {
   "cell_type": "code",
   "execution_count": 1,
   "metadata": {},
   "outputs": [],
   "source": [
    "import numpy as np\n",
    "\n",
    "import chugunov_indicator as chug\n",
    "from chugunov_indicator.default_data import DefaultScreeningData\n",
    "\n",
    "import pynucastro as pyna\n",
    "import yt\n",
    "\n",
    "rng = np.random.default_rng(0)"
   ]
  },
  {
   "cell_type": "markdown",
   "metadata": {},
   "source": [
    "To see how effective the interpolation and prediction procedure in `interpolation.py` is, we can test it on a different snapshot of double detonation data."
   ]
  },
  {
   "cell_type": "code",
   "execution_count": 2,
   "metadata": {},
   "outputs": [
    {
     "name": "stderr",
     "output_type": "stream",
     "text": [
      "yt : [INFO     ] 2024-10-01 22:50:03,484 Parameters: current_time              = 0.800001438968278\n",
      "yt : [INFO     ] 2024-10-01 22:50:03,485 Parameters: domain_dimensions         = [ 640 1280    1]\n",
      "yt : [INFO     ] 2024-10-01 22:50:03,486 Parameters: domain_left_edge          = [0. 0. 0.]\n",
      "yt : [INFO     ] 2024-10-01 22:50:03,487 Parameters: domain_right_edge         = [5.12000000e+09 1.02400000e+10 6.28318531e+00]\n"
     ]
    }
   ],
   "source": [
    "# Double Detonation data: http://groot.astro.sunysb.edu/common/\n",
    "ds = yt.load('./data/subch_plt17526/')\n",
    "ad = ds.all_data()"
   ]
  },
  {
   "cell_type": "markdown",
   "metadata": {},
   "source": [
    "First, we take a sample of $10,000$ points in the data."
   ]
  },
  {
   "cell_type": "code",
   "execution_count": 3,
   "metadata": {},
   "outputs": [],
   "source": [
    "total = 10000"
   ]
  },
  {
   "cell_type": "code",
   "execution_count": 4,
   "metadata": {},
   "outputs": [
    {
     "data": {
      "text/plain": [
       "array([2936273, 2198730, 1764394, ..., 3269157, 2348354, 3055639])"
      ]
     },
     "execution_count": 4,
     "metadata": {},
     "output_type": "execute_result"
    }
   ],
   "source": [
    "choices = rng.choice(np.arange(len(ad[\"density\"])), total)\n",
    "choices"
   ]
  },
  {
   "cell_type": "markdown",
   "metadata": {},
   "source": [
    "Next, we compute the inputs and the resulting screening factors. For the screening pair, we select a random pair from amongst the possible options using `pynucastro.screening.get_screening_map`."
   ]
  },
  {
   "cell_type": "code",
   "execution_count": 5,
   "metadata": {},
   "outputs": [],
   "source": [
    "reaclib_library = pyna.ReacLibLibrary()\n",
    "\n",
    "nuclei = [field[2:-1] for field in np.array(ds.field_list)[:,1] if \"X(\" in field]\n",
    "comp = pyna.Composition(nuclei)\n",
    "\n",
    "mynet = reaclib_library.linking_nuclei(comp.keys())\n",
    "pynet = pyna.PythonNetwork(libraries=[mynet])\n",
    "\n",
    "screen_map = pyna.screening.get_screening_map(\n",
    "    pynet.get_rates(),\n",
    "    symmetric_screening=pynet.symmetric_screening\n",
    ")"
   ]
  },
  {
   "cell_type": "code",
   "execution_count": 6,
   "metadata": {},
   "outputs": [
    {
     "data": {
      "text/plain": [
       "{'z1': 2, 'a1': 4, 'z2': 18, 'a2': 36}"
      ]
     },
     "execution_count": 6,
     "metadata": {},
     "output_type": "execute_result"
    }
   ],
   "source": [
    "pair = screen_map[15]\n",
    "screening_kwargs = {\n",
    "    \"z1\": pair.n1.Z,\n",
    "    \"a1\": pair.n1.A,\n",
    "    \"z2\": pair.n2.Z,\n",
    "    \"a2\": pair.n2.A\n",
    "}\n",
    "screening_kwargs"
   ]
  },
  {
   "cell_type": "code",
   "execution_count": 7,
   "metadata": {},
   "outputs": [],
   "source": [
    "Xs = (np.array([ad[f\"X({nucleus})\"] for nucleus in nuclei]).T)\n",
    "As = np.array(list(comp.A.values()))\n",
    "Zs = np.array(list(comp.Z.values()))\n",
    "Ys = Xs / As"
   ]
  },
  {
   "cell_type": "code",
   "execution_count": 8,
   "metadata": {},
   "outputs": [],
   "source": [
    "D = np.array(ad[\"density\"])\n",
    "T = np.array(ad[\"Temp\"])\n",
    "\n",
    "abar = 1 / np.sum(Ys, axis=1)\n",
    "zbar = np.sum(Zs * Ys, axis=1) * abar\n",
    "z2bar = np.sum(Zs**2 * Ys, axis=1) * abar\n",
    "log_z2bar = np.log10(z2bar)\n",
    "\n",
    "z1 = screening_kwargs[\"z1\"] * np.ones_like(T)\n",
    "z2 = screening_kwargs[\"z2\"] * np.ones_like(T)"
   ]
  },
  {
   "cell_type": "code",
   "execution_count": 9,
   "metadata": {},
   "outputs": [],
   "source": [
    "F = chug.chugunov_2009.chugunov_2009(\n",
    "    T=T, D=D,\n",
    "    abar=abar, zbar=zbar, z2bar=z2bar,\n",
    "    **screening_kwargs\n",
    ")\n",
    "actual_skip = F[choices] < 1.01"
   ]
  },
  {
   "cell_type": "markdown",
   "metadata": {},
   "source": [
    "We find that screening can be skipped around half of the time, depending on our choices and the selected screening pair."
   ]
  },
  {
   "cell_type": "code",
   "execution_count": 10,
   "metadata": {},
   "outputs": [
    {
     "name": "stdout",
     "output_type": "stream",
     "text": [
      "Can skip: 4802/10000 (48.02%)\n",
      "Can't skip: 5198/10000 (51.98%)\n"
     ]
    }
   ],
   "source": [
    "p = np.count_nonzero(actual_skip)\n",
    "n = total - p\n",
    "print(\n",
    "    f\"Can skip: {p}/{total} ({100 * p/total:.2f}%)\",\n",
    "    f\"Can't skip: {n}/{total} ({100 * n/total:.2f}%)\",\n",
    "    sep=\"\\n\"\n",
    ")"
   ]
  },
  {
   "cell_type": "markdown",
   "metadata": {},
   "source": [
    "From there, we use the interpolator and the power law described in prior notebooks to make our predictions."
   ]
  },
  {
   "cell_type": "code",
   "execution_count": 11,
   "metadata": {},
   "outputs": [],
   "source": [
    "screen_interp = DefaultScreeningData.default_interpolator\n",
    "xi = np.array([abar[choices], log_z2bar[choices], z1[choices], z2[choices]]).T"
   ]
  },
  {
   "cell_type": "code",
   "execution_count": 12,
   "metadata": {},
   "outputs": [],
   "source": [
    "C = screen_interp(xi, method=\"linear\")\n",
    "predict_skip = D[choices] < 1/10**C * T[choices]**3"
   ]
  },
  {
   "cell_type": "code",
   "execution_count": 13,
   "metadata": {},
   "outputs": [],
   "source": [
    "TP = predict_skip & actual_skip\n",
    "TN = ~predict_skip & ~actual_skip\n",
    "FP = predict_skip & ~actual_skip\n",
    "FN = ~predict_skip & actual_skip\n",
    "\n",
    "tp = np.count_nonzero(TP)\n",
    "tn = np.count_nonzero(TN)\n",
    "fp = np.count_nonzero(FP)\n",
    "fn = np.count_nonzero(FN)"
   ]
  },
  {
   "cell_type": "markdown",
   "metadata": {},
   "source": [
    "A breakdown of the data is given below. To summarize, the predictions were correct the vast majority of the time, with false negatives making up a very small fraction of the total. False negatives are fine, as it just means the screening factor will end up being computed and found to be $1.01$ anyway. False positives are the real issue, as those mean that screening will be skipped even in a scenario where it could be relevant - but fortunately, there were no false positives."
   ]
  },
  {
   "cell_type": "code",
   "execution_count": 14,
   "metadata": {},
   "outputs": [
    {
     "name": "stdout",
     "output_type": "stream",
     "text": [
      "True Positives: 4795/10000 (47.95%)\n",
      "True Negatives: 5198/10000 (51.98%)\n",
      "False Positives: 0/10000 (0.00%)\n",
      "False Negatives: 7/10000 (0.07%)\n"
     ]
    }
   ],
   "source": [
    "print(\n",
    "    f\"True Positives: {tp}/{total} ({100 * tp/total:.2f}%)\",\n",
    "    f\"True Negatives: {tn}/{total} ({100 * tn/total:.2f}%)\",\n",
    "    f\"False Positives: {fp}/{total} ({100 * fp/total:.2f}%)\",\n",
    "    f\"False Negatives: {fn}/{total} ({100 * fn/total:.2f}%)\",\n",
    "    sep=\"\\n\"\n",
    ")"
   ]
  },
  {
   "cell_type": "code",
   "execution_count": 15,
   "metadata": {},
   "outputs": [
    {
     "name": "stdout",
     "output_type": "stream",
     "text": [
      "Accuracy: 99.93%\n",
      "Precision: 100.00%\n",
      "Recall: 99.85%\n"
     ]
    }
   ],
   "source": [
    "print(\n",
    "    f\"Accuracy: {100 * (tp + tn)/(p + n):.2f}%\",\n",
    "    f\"Precision: {100 * tp/(tp + fp):.2f}%\",\n",
    "    f\"Recall: {100 * tp/(tp + fn):.2f}%\",\n",
    "    sep=\"\\n\"\n",
    ")"
   ]
  }
 ],
 "metadata": {
  "kernelspec": {
   "display_name": "Python 3",
   "language": "python",
   "name": "python3"
  },
  "language_info": {
   "codemirror_mode": {
    "name": "ipython",
    "version": 3
   },
   "file_extension": ".py",
   "mimetype": "text/x-python",
   "name": "python",
   "nbconvert_exporter": "python",
   "pygments_lexer": "ipython3",
   "version": "3.12.2"
  }
 },
 "nbformat": 4,
 "nbformat_minor": 2
}
