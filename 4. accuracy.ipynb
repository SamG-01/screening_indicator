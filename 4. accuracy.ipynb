{
 "cells": [
  {
   "cell_type": "code",
   "execution_count": 13,
   "metadata": {},
   "outputs": [],
   "source": [
    "import numpy as np\n",
    "\n",
    "from chugunov_indicator.chugunov_2009 import chugunov_2009\n",
    "from chugunov_indicator.analytic.predict import _screening_intercept, _skip_chugunov_2009\n",
    "from chugunov_indicator import ScreeningFactorData\n",
    "\n",
    "import pynucastro as pyna\n",
    "import yt\n",
    "\n",
    "rng = np.random.default_rng(1)"
   ]
  },
  {
   "cell_type": "markdown",
   "metadata": {},
   "source": [
    "To see how effective the fitting described in `3. analytic.ipynb` (and implemented in `chugunov_indicator.analytic.predict.py`) is, we can test it on a `ScreeningFactorData` object."
   ]
  },
  {
   "cell_type": "code",
   "execution_count": 14,
   "metadata": {},
   "outputs": [],
   "source": [
    "test = ScreeningFactorData(total := 3*10**5, rng)"
   ]
  },
  {
   "cell_type": "code",
   "execution_count": 15,
   "metadata": {},
   "outputs": [
    {
     "name": "stdout",
     "output_type": "stream",
     "text": [
      "34.6 ms ± 1.97 ms per loop (mean ± std. dev. of 7 runs, 10 loops each)\n"
     ]
    }
   ],
   "source": [
    "%%timeit\n",
    "predict_skip = _skip_chugunov_2009(test.y0, test.abar, test.z2bar, test.z1, test.z2)"
   ]
  },
  {
   "cell_type": "code",
   "execution_count": null,
   "metadata": {},
   "outputs": [
    {
     "name": "stdout",
     "output_type": "stream",
     "text": [
      "268 ms ± 11.4 ms per loop (mean ± std. dev. of 7 runs, 1 loop each)\n"
     ]
    }
   ],
   "source": [
    "%%timeit\n",
    "F = chugunov_2009(test.T, test.D, test.abar, 1, test.z2bar, test.z1, test.z2, 1, 1)"
   ]
  },
  {
   "cell_type": "code",
   "execution_count": 19,
   "metadata": {},
   "outputs": [],
   "source": [
    "actual_skip = F < 1.01"
   ]
  },
  {
   "cell_type": "code",
   "execution_count": 20,
   "metadata": {},
   "outputs": [
    {
     "name": "stdout",
     "output_type": "stream",
     "text": [
      "Can skip: 104961/300000 (34.99%)\n",
      "Can't skip: 195039/300000 (65.01%)\n"
     ]
    }
   ],
   "source": [
    "p = np.count_nonzero(actual_skip)\n",
    "n = 3*10**5 - p\n",
    "print(\n",
    "    f\"Can skip: {p}/{total} ({100 * p/total:.2f}%)\",\n",
    "    f\"Can't skip: {n}/{total} ({100 * n/total:.2f}%)\",\n",
    "    sep=\"\\n\"\n",
    ")"
   ]
  },
  {
   "cell_type": "markdown",
   "metadata": {},
   "source": [
    "We find that screening can be skipped around half of the time, depending on our choices and the selected screening pair."
   ]
  },
  {
   "cell_type": "code",
   "execution_count": 6,
   "metadata": {},
   "outputs": [],
   "source": [
    "TP = predict_skip & actual_skip\n",
    "TN = ~predict_skip & ~actual_skip\n",
    "FP = predict_skip & ~actual_skip\n",
    "FN = ~predict_skip & actual_skip\n",
    "\n",
    "tp = np.count_nonzero(TP)\n",
    "tn = np.count_nonzero(TN)\n",
    "fp = np.count_nonzero(FP)\n",
    "fn = np.count_nonzero(FN)"
   ]
  },
  {
   "cell_type": "markdown",
   "metadata": {},
   "source": [
    "A breakdown of the data is given below."
   ]
  },
  {
   "cell_type": "code",
   "execution_count": 11,
   "metadata": {},
   "outputs": [
    {
     "name": "stdout",
     "output_type": "stream",
     "text": [
      "True Positives: 98296/300000 (32.77%)\n",
      "True Negatives: 195039/300000 (65.01%)\n",
      "False Positives: 0/300000 (0.00%)\n",
      "False Negatives: 6665/300000 (2.22%)\n"
     ]
    }
   ],
   "source": [
    "print(\n",
    "    f\"True Positives: {tp}/{total} ({100 * tp/total:.2f}%)\",\n",
    "    f\"True Negatives: {tn}/{total} ({100 * tn/total:.2f}%)\",\n",
    "    f\"False Positives: {fp}/{total} ({100 * fp/total:.2f}%)\",\n",
    "    f\"False Negatives: {fn}/{total} ({100 * fn/total:.2f}%)\",\n",
    "    sep=\"\\n\"\n",
    ")"
   ]
  },
  {
   "cell_type": "code",
   "execution_count": 12,
   "metadata": {},
   "outputs": [
    {
     "name": "stdout",
     "output_type": "stream",
     "text": [
      "Accuracy: 97.78%\n",
      "Precision: 100.00%\n",
      "Recall: 93.65%\n"
     ]
    }
   ],
   "source": [
    "print(\n",
    "    f\"Accuracy: {100 * (tp + tn)/(p + n):.2f}%\",\n",
    "    f\"Precision: {100 * tp/(tp + fp):.2f}%\",\n",
    "    f\"Recall: {100 * tp/(tp + fn):.2f}%\",\n",
    "    sep=\"\\n\"\n",
    ")"
   ]
  },
  {
   "cell_type": "markdown",
   "metadata": {},
   "source": [
    "Even though our model's prediction of the intercept $C$ isn't the most precise that it could be, the predictions for whether screening can be skipped were correct the vast majority of the time, with false negatives making up a very small fraction of the total. False negatives are fine, as it just means the screening factor will end up being computed and found to be between $1$ and $1.01$ anyway. False positives are the real issue, as those mean that screening will be skipped even in a scenario where it could be relevant - but fortunately, there were no false positives."
   ]
  }
 ],
 "metadata": {
  "kernelspec": {
   "display_name": "Python 3",
   "language": "python",
   "name": "python3"
  },
  "language_info": {
   "codemirror_mode": {
    "name": "ipython",
    "version": 3
   },
   "file_extension": ".py",
   "mimetype": "text/x-python",
   "name": "python",
   "nbconvert_exporter": "python",
   "pygments_lexer": "ipython3",
   "version": "3.12.2"
  }
 },
 "nbformat": 4,
 "nbformat_minor": 2
}
