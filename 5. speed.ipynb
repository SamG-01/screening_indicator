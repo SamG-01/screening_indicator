{
 "cells": [
  {
   "cell_type": "code",
   "execution_count": 1,
   "metadata": {},
   "outputs": [],
   "source": [
    "import numpy as np\n",
    "\n",
    "import chugunov_indicator as chug\n",
    "from chugunov_indicator.default_data import DefaultScreeningData\n",
    "\n",
    "import pynucastro as pyna\n",
    "import yt"
   ]
  },
  {
   "cell_type": "code",
   "execution_count": 2,
   "metadata": {},
   "outputs": [
    {
     "name": "stderr",
     "output_type": "stream",
     "text": [
      "yt : [INFO     ] 2024-10-06 20:44:05,053 Parameters: current_time              = 0.800001438968278\n",
      "yt : [INFO     ] 2024-10-06 20:44:05,053 Parameters: domain_dimensions         = [ 640 1280    1]\n",
      "yt : [INFO     ] 2024-10-06 20:44:05,055 Parameters: domain_left_edge          = [0. 0. 0.]\n",
      "yt : [INFO     ] 2024-10-06 20:44:05,056 Parameters: domain_right_edge         = [5.12000000e+09 1.02400000e+10 6.28318531e+00]\n"
     ]
    }
   ],
   "source": [
    "# Double Detonation data: http://groot.astro.sunysb.edu/common/\n",
    "ds = yt.load('./data/subch_plt17526/')\n",
    "ad = ds.all_data()"
   ]
  },
  {
   "cell_type": "code",
   "execution_count": 3,
   "metadata": {},
   "outputs": [],
   "source": [
    "reaclib_library = pyna.ReacLibLibrary()\n",
    "\n",
    "nuclei = [field[2:-1] for field in np.array(ds.field_list)[:,1] if \"X(\" in field]\n",
    "comp = pyna.Composition(nuclei)\n",
    "\n",
    "mynet = reaclib_library.linking_nuclei(comp.keys())\n",
    "pynet = pyna.PythonNetwork(libraries=[mynet])\n",
    "\n",
    "screen_map = pyna.screening.get_screening_map(\n",
    "    pynet.get_rates(),\n",
    "    symmetric_screening=pynet.symmetric_screening\n",
    ")"
   ]
  },
  {
   "cell_type": "code",
   "execution_count": 4,
   "metadata": {},
   "outputs": [],
   "source": [
    "comp.set_solar_like()\n",
    "plasma = pyna.make_plasma_state(1e8, 1e4, comp.get_molar())"
   ]
  },
  {
   "cell_type": "code",
   "execution_count": 5,
   "metadata": {},
   "outputs": [],
   "source": [
    "pair = screen_map[5]\n",
    "scn_fac = pyna.make_screen_factors(pair.n1, pair.n2)"
   ]
  },
  {
   "cell_type": "code",
   "execution_count": 10,
   "metadata": {},
   "outputs": [
    {
     "name": "stdout",
     "output_type": "stream",
     "text": [
      "1.85 µs ± 205 ns per loop (mean ± std. dev. of 7 runs, 100,000 loops each)\n"
     ]
    }
   ],
   "source": [
    "%%timeit\n",
    "\n",
    "F = pyna.screening.chugunov_2009(plasma, scn_fac)"
   ]
  },
  {
   "cell_type": "code",
   "execution_count": 7,
   "metadata": {},
   "outputs": [
    {
     "data": {
      "text/plain": [
       "1.2989009131276164"
      ]
     },
     "execution_count": 7,
     "metadata": {},
     "output_type": "execute_result"
    }
   ],
   "source": [
    "pyna.screening.chugunov_2009(plasma, scn_fac)"
   ]
  },
  {
   "cell_type": "code",
   "execution_count": 8,
   "metadata": {},
   "outputs": [],
   "source": [
    "screen_interp = DefaultScreeningData.default_interpolator"
   ]
  },
  {
   "cell_type": "code",
   "execution_count": 11,
   "metadata": {},
   "outputs": [
    {
     "name": "stdout",
     "output_type": "stream",
     "text": [
      "20.6 µs ± 772 ns per loop (mean ± std. dev. of 7 runs, 10,000 loops each)\n"
     ]
    }
   ],
   "source": [
    "%%timeit\n",
    "\n",
    "skip = chug.skip_screening(plasma, scn_fac, screen_interp)"
   ]
  },
  {
   "cell_type": "markdown",
   "metadata": {},
   "source": [
    "This means that for individual screening factor calculations, the current interpolator is over 10 times slower than simply computing the screening factor directly.\n",
    "\n",
    "The bottleneck here is the performance of `intergrid.intergrid.__call__`. While over ten times faster than `scipy.interpolate.RegularGridInterpolator.__call__` , it is still inefficient to use this interpolator to check if the calculation can be skipped.\n",
    "\n",
    "Possible avenues of improvement include:\n",
    "- Using an alternative interpolator. While `RegularGridInterpolator` is the best option I could find for Python, it may also be possible to implement something directly in C++ if needed.\n",
    "- Find numerical models for $c$'s dependence on any of $\\bar{A}, \\overline{Z^2}, Z_1, Z_2$. This could potentially reduce the dimensionality of the interpolator's inputs or perhaps even circumvent the need for one at all.\n",
    "- Formulate an analytical model for $c$ by directly manipulating the equations in `chugunov_2009`. This is by far the hardest option given here, but it could be rewarding to try and figure out why the power law $\\rho_b \\propto T^3$ seems to hold here."
   ]
  }
 ],
 "metadata": {
  "kernelspec": {
   "display_name": "Python 3",
   "language": "python",
   "name": "python3"
  },
  "language_info": {
   "codemirror_mode": {
    "name": "ipython",
    "version": 3
   },
   "file_extension": ".py",
   "mimetype": "text/x-python",
   "name": "python",
   "nbconvert_exporter": "python",
   "pygments_lexer": "ipython3",
   "version": "3.12.2"
  }
 },
 "nbformat": 4,
 "nbformat_minor": 2
}
